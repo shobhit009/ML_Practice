{
  "nbformat": 4,
  "nbformat_minor": 0,
  "metadata": {
    "colab": {
      "name": "Copy of String_Assignment.ipynb",
      "provenance": [],
      "collapsed_sections": [],
      "include_colab_link": true
    },
    "kernelspec": {
      "display_name": "Python 3",
      "language": "python",
      "name": "python3"
    },
    "language_info": {
      "codemirror_mode": {
        "name": "ipython",
        "version": 3
      },
      "file_extension": ".py",
      "mimetype": "text/x-python",
      "name": "python",
      "nbconvert_exporter": "python",
      "pygments_lexer": "ipython3",
      "version": "3.7.3"
    },
    "latex_envs": {
      "LaTeX_envs_menu_present": true,
      "autoclose": false,
      "autocomplete": true,
      "bibliofile": "biblio.bib",
      "cite_by": "apalike",
      "current_citInitial": 1,
      "eqLabelWithNumbers": true,
      "eqNumInitial": 1,
      "hotkeys": {
        "equation": "Ctrl-E",
        "itemize": "Ctrl-I"
      },
      "labels_anchors": false,
      "latex_user_defs": false,
      "report_style_numbering": false,
      "user_envs_cfg": false
    },
    "varInspector": {
      "cols": {
        "lenName": 16,
        "lenType": 16,
        "lenVar": 40
      },
      "kernels_config": {
        "python": {
          "delete_cmd_postfix": "",
          "delete_cmd_prefix": "del ",
          "library": "var_list.py",
          "varRefreshCmd": "print(var_dic_list())"
        },
        "r": {
          "delete_cmd_postfix": ") ",
          "delete_cmd_prefix": "rm(",
          "library": "var_list.r",
          "varRefreshCmd": "cat(var_dic_list()) "
        }
      },
      "types_to_exclude": [
        "module",
        "function",
        "builtin_function_or_method",
        "instance",
        "_Feature"
      ],
      "window_display": false
    }
  },
  "cells": [
    {
      "cell_type": "markdown",
      "metadata": {
        "id": "view-in-github",
        "colab_type": "text"
      },
      "source": [
        "<a href=\"https://colab.research.google.com/github/shobhit009/ML_Practice/blob/master/Copy_of_String_Assignment.ipynb\" target=\"_parent\"><img src=\"https://colab.research.google.com/assets/colab-badge.svg\" alt=\"Open In Colab\"/></a>"
      ]
    },
    {
      "cell_type": "code",
      "metadata": {
        "id": "EU8FCZX8CoH7"
      },
      "source": [
        "# String Assignment\n",
        "# Shobhit Kumar"
      ],
      "execution_count": 2,
      "outputs": []
    },
    {
      "cell_type": "code",
      "metadata": {
        "id": "OG2JlAXx3VoJ",
        "colab": {
          "base_uri": "https://localhost:8080/"
        },
        "outputId": "6d7b4301-ad83-48fa-ff43-752378054cf0"
      },
      "source": [
        "#Declare a string and store it in a variable. \n",
        "text = \"This is a string\"\n",
        "\n",
        "\n",
        "#Check the type and print the id of the same.\n",
        "print(type(text), id(text), sep = \"\\n\")\n",
        "\n",
        "\n"
      ],
      "execution_count": 3,
      "outputs": [
        {
          "output_type": "stream",
          "text": [
            "<class 'str'>\n",
            "140457873022048\n"
          ],
          "name": "stdout"
        }
      ]
    },
    {
      "cell_type": "code",
      "metadata": {
        "id": "wPxm3G8W3dqN"
      },
      "source": [
        "#Which are valid/invalid strings\n",
        "1. 'This is Python class'\n",
        "valid/invalid\n",
        "\n",
        "2. \"This is Python class\"\n",
        "valid/invalid\n",
        "\n",
        "3. '''This is Python class'''\n",
        "valid/invalid\n",
        "\n",
        "4. \"\"\"This is Python class\"\"\"\n",
        "valid/invalid\n",
        "\n",
        "5. 'This is Python's class'\n",
        "valid/invalid\n",
        "\n",
        "6. \"Learnbay provides \"Java\", \"Python\" classes\"\n",
        "valid/invalid\n",
        "\n",
        "7. \"Learnbay provides 'Java', 'Python' classes\"\n",
        "valid/invalid\n",
        "\n",
        "8. \"This is Python's class\"\n",
        "valid/invalid\n",
        "\n",
        "9. \"\"\"Learnbay provides \"Java\", \"Python\" classes\"\"\"\n",
        "valid/invalid\n",
        "\n",
        "10. '''Learnbay provides \"Java\", \"Python\" classes'''\n",
        "valid/invalid   #\n",
        "\n",
        "11. '''Learnbay provides\n",
        "\"Java\", \"Python\" \n",
        "classes'''\n",
        "valid/invalid\n",
        "\n",
        "12. 'This is\n",
        "Python \n",
        "class'\n",
        "valid/invalid\n"
      ],
      "execution_count": null,
      "outputs": []
    },
    {
      "cell_type": "code",
      "metadata": {
        "id": "Drx8fhT23g7a"
      },
      "source": [
        "#Write the code to get the output mentioned below print statement\n",
        "my_str = \"Although that way may not be obvious at first unless you're Dutch.\"\n",
        "my_str1 = \"Although that way may not be obvious at first unless you're Dutch.\"\n",
        "\n",
        "print()\n",
        "#output:- The length of my_str is 66\n",
        "\n",
        "print()\n",
        "#output:- id of my_str and my_str1 is same? - True\n",
        "\n",
        "print()\n",
        "#output:- Type of my_str is: str"
      ],
      "execution_count": null,
      "outputs": []
    },
    {
      "cell_type": "code",
      "metadata": {
        "id": "403e-I3A3lCO"
      },
      "source": [
        "#Indexing\n",
        "my_str = \"Although 8 that way may not be obvious at first unless you're Dutch\"\n",
        "#Write the code to get the output,instructions are mentioned below print statement. use indexing\n",
        "\n",
        "print()\n",
        "#output:- The first character in my_str is: A\n",
        "#Note:- Use positive indexing\n",
        "\n",
        "print()\n",
        "#output:- The first character in my_str is: h\n",
        "#Note:- Use len() function.\n",
        "\n",
        "print()\n",
        "#output:- The character at index 10 in my_str is: c\n",
        "#Note:- Use positive indexing\n",
        "\n",
        "print()\n",
        "#output:- The last character in my_str is: h\n",
        "#Note:- Use negative indexing.\n",
        "\n",
        "print()\n",
        "#output:- The last character in my_str is: h\n",
        "#Note:- Use len() function.\n",
        "\n",
        "print()\n",
        "#output:- The character in my_str is: 8\n",
        "#Note:- Use positive index"
      ],
      "execution_count": null,
      "outputs": []
    },
    {
      "cell_type": "code",
      "metadata": {
        "id": "NK_QdtsM3luu"
      },
      "source": [
        "\n",
        "#Slicing\n",
        "my_str = \"Although that way may not be obvious at first unless you're Dutch.\"\n",
        "#Write the code to get the output,instructions are mentioned below print statement. use slicing\n",
        "print()\n",
        "#output:- You have sliced: Although that way may not be obvious at first unless you're Dutch.Without begin, end and step\n",
        "\n",
        "\n",
        "print()\n",
        "#output:- You have sliced: Although that way may not be obvious at first unless you're Dutch.with begin as 0 end using len and without step\n",
        "\n",
        "\n",
        "print()\n",
        "#output:- You have sliced: Although that way may not be obvious at first unless you're Dutch.without begin and end but using step\n",
        "\n",
        "\n",
        "print()\n",
        "#output:- You have sliced: Although that way may not be obvious at first unless you're Dutch.With begin, end and step\n",
        "\n",
        "\n",
        "print()\n",
        "#output:- You have sliced:   .with using begin and end using postive values and step as negative values.\n",
        "#Slicing command should print empty string.\n",
        "\n",
        "\n",
        "print()\n",
        "#output:- You have sliced: Atog htwymyntb biu tfrtuls o'eDth\n",
        "\n",
        "\n",
        "print()\n",
        "#output:- You have sliced: Ahgttam tebo  r lsorDc\n",
        "\n",
        "\n",
        "print()\n",
        "#output:- You have sliced: .hctuD er'uoy sselnu tsrif ta suoivbo eb ton yam yaw taht hguohtlA. Use only step\n",
        "\n",
        "\n",
        "print()\n",
        "#output:- You have sliced: .hctuD er'uoy sselnu tsrif ta suoivbo eb ton yam yaw taht hguohtlA. Use begin end and step.\n",
        "\n",
        "\n",
        "print()\n",
        "#output:- You have sliced: .cu ruysen si asovoe o a a athuhl. use only step\n",
        "\n",
        "\n",
        "print()\n",
        "#output:- You have sliced: .cu ruysen si asovoe o a a athuhl. use begin, end and step.\n",
        "\n",
        "\n",
        "print(my_str[10:17:-1])\n",
        "#What will be the output?\n",
        "\n",
        "\n",
        "print()\n",
        "#output:- You have sliced: yaw ta, Using begin, end and step.\n",
        "\n",
        "print()\n",
        "#output:- You have sliced: ess you. Using begin, end and step.\n"
      ],
      "execution_count": null,
      "outputs": []
    },
    {
      "cell_type": "code",
      "metadata": {
        "id": "qUSYa5x-3n5j"
      },
      "source": [
        "#Basic operation on string\n",
        "str1 = 'Learnbay'\n",
        "str2 = 'Python'\n",
        "\n",
        "#Write the code to get the output,instructions are mentioned below.\n",
        "#Output is: Learnbay Python\n",
        "\n",
        "\n",
        "#Error: TypeError: can only concatenate str (not \"int\") to str\n",
        "\n",
        "\n",
        "#Error: TypeError: can only concatenate str (not \"float\") to str\n",
        "\n",
        "\n",
        "\n",
        "#Find below Output\n",
        "#Output is: LearnbayLearnbayLearnbay\n",
        "\n",
        "\n",
        "#Error: TypeError: can't multiply sequence by non-int of type 'float'\n",
        "\n",
        "\n",
        "#Error: TypeError: can't multiply sequence by non-int of type 'str'\n",
        "\n"
      ],
      "execution_count": null,
      "outputs": []
    },
    {
      "cell_type": "code",
      "metadata": {
        "id": "gREffmnr3s-p"
      },
      "source": [
        "#Find below Output\n",
        "str1 = 'Python'\n",
        "str2 = 'Python'\n",
        "str3 = 'Python$'\n",
        "str4 = 'Python$'\n",
        "\n",
        "#print True by using identity operator between str1 and str2\n",
        "\n",
        "\n",
        "#print False by using identity operator between str1 and str3\n",
        "\n",
        "\n",
        "#print False by using identity operator between str4 and str3\n",
        "\n",
        "\n",
        "#Check if P is available in str1 and print True by using membership operator\n",
        "\n",
        "\n",
        "#Check if $ is available in str3 and print True by using membership operator\n",
        "\n",
        "\n",
        "#Check if N is available in str3 and print False by using membership operator\n",
        "\n",
        "\n"
      ],
      "execution_count": null,
      "outputs": []
    },
    {
      "cell_type": "code",
      "metadata": {
        "id": "QNFjxDr73u2H"
      },
      "source": [
        "#Complete the below code\n",
        "str1 = 'This is Python class'\n",
        "#write the code to replace 'Python' with 'Java' and you should get below error.\n",
        "#TypeError: 'str' object does not support item assignment.\n",
        "\n",
        "\n"
      ],
      "execution_count": null,
      "outputs": []
    },
    {
      "cell_type": "code",
      "metadata": {
        "id": "-JgFbPmn3w3D"
      },
      "source": [
        "str1 = 'A'\n",
        "str2 = 'A'\n",
        "#Compare str1 and str2 and print True using comparison operator\n",
        "\n",
        "\n",
        "#Compare str1 and str2 and print True using equality operator\n",
        "\n",
        "\n",
        "#Compare str1 and str2 and print False using equality operator\n",
        "\n",
        "\n",
        "#Compare str1 and str2 and print False using comparison operator\n",
        "\n"
      ],
      "execution_count": null,
      "outputs": []
    },
    {
      "cell_type": "code",
      "metadata": {
        "id": "fJ46_L-53yhW"
      },
      "source": [
        "str1 = 'A'\n",
        "str2 = 'a'\n",
        "#Compare str1 and str2 and print True using comparison operator\n",
        "\n",
        "\n",
        "#Compare str1 and str2 and print True using equality operator\n",
        "\n",
        "\n",
        "#Compare str1 and str2 and print False using equality operator\n",
        "\n",
        "\n",
        "#Compare str1 and str2 and print False using comparison operator\n",
        "\n"
      ],
      "execution_count": null,
      "outputs": []
    },
    {
      "cell_type": "code",
      "metadata": {
        "id": "e-Lr9va330gi"
      },
      "source": [
        "str1 = 'A'\n",
        "str2 = '65'\n",
        "#Compare str1 and str2 using comparison operator and it should give below error.\n",
        "#Error: TypeError: '>=' not supported between instances of 'str' and 'int'\n",
        "\n",
        "#Compare str1 and str2 and print True using equality operator\n",
        "\n",
        "\n",
        "#Compare str1 and str2 and print False using equality operator\n",
        "\n"
      ],
      "execution_count": null,
      "outputs": []
    },
    {
      "cell_type": "code",
      "metadata": {
        "id": "JO04jmpN32Im"
      },
      "source": [
        "str1 = 'Python'\n",
        "str2 = 'Python'\n",
        "#Compare str1 and str2 and print True using comparison operator\n",
        "\n",
        "\n",
        "#Compare str1 and str2 and print True using equality operator\n",
        "\n",
        "\n",
        "#Compare str1 and str2 and print False using equality operator\n",
        "\n",
        "\n",
        "#Compare str1 and str2 and print False using comparison operator\n",
        "\n"
      ],
      "execution_count": null,
      "outputs": []
    },
    {
      "cell_type": "code",
      "metadata": {
        "id": "nmVAYYC_35ip"
      },
      "source": [
        "str1 = 'Python'\n",
        "str2 = 'python'\n",
        "#Compare str1 and str2 and print True using comparison operator\n",
        "\n",
        "\n",
        "#Compare str1 and str2 and print True using equality operator\n",
        "\n",
        "\n",
        "#Compare str1 and str2 and print False using equality operator\n",
        "\n",
        "\n",
        "#Compare str1 and str2 and print False using comparison operator\n",
        "\n"
      ],
      "execution_count": null,
      "outputs": []
    },
    {
      "cell_type": "code",
      "metadata": {
        "id": "7ulv5ith37OJ"
      },
      "source": [
        "a = 'Python'\n",
        "b = ''\n",
        "\n",
        "#Apply logical opereators (and, or & not) on above string values and observe the output.\n",
        "print()\n",
        "print()\n",
        "print()\n",
        "print()\n",
        "print()"
      ],
      "execution_count": null,
      "outputs": []
    },
    {
      "cell_type": "code",
      "metadata": {
        "id": "Yg_gsZBL383n"
      },
      "source": [
        "a = ''\n",
        "b = ''\n",
        "\n",
        "#Apply logical opereators (and, or & not) on above string values and observe the output.\n",
        "print()\n",
        "print()\n",
        "print()"
      ],
      "execution_count": null,
      "outputs": []
    },
    {
      "cell_type": "code",
      "metadata": {
        "id": "cIWkP9Hf3-q5"
      },
      "source": [
        "a = 'Python'\n",
        "b = 'learnbay'\n",
        "\n",
        "#Apply logical opereators (and, or & not) on above string values and observe the output.\n",
        "print()\n",
        "print()\n",
        "print()"
      ],
      "execution_count": null,
      "outputs": []
    },
    {
      "cell_type": "code",
      "metadata": {
        "id": "Y0Ot_E704AX5"
      },
      "source": [
        "my_str = \"Although 8 that way may not be obvious at first unless you're Dutch\"\n",
        "\n",
        "#Write the code to get the total count of 't' in above string. Use find() and index() method.\n",
        "print()\n",
        "print()\n",
        "\n",
        "#Write the code to get the index of '8' in my_str. Use find() and index() method.\n",
        "print()\n",
        "print()\n",
        "\n",
        "#What will be the output of below code?\n",
        "print(my_str.find('the'))\n",
        "\n",
        "\n",
        "print(my_str.index('the'))\n",
        "\n",
        "\n",
        "print(my_str.find('t', 9, 15))\n",
        "\n",
        "\n",
        "print(my_str.rfind('u'))\n",
        "\n",
        "\n",
        "print(my_str.rindex('u'))\n",
        "\n"
      ],
      "execution_count": null,
      "outputs": []
    },
    {
      "cell_type": "code",
      "metadata": {
        "id": "Gommq59Q4CMi"
      },
      "source": [
        "#W A P which applies strip() method if any string, which will be taken from user, starts and ends with space, or applies \n",
        "#rrstrip() method if that string only ends with space or applies lstrip() method if that string only starts with a space.\n",
        "\n",
        "#For example:-\n",
        "#input:- '    Python   '\n",
        "#output:- 'Python'\n",
        "\n",
        "#input:- '    Python'\n",
        "#output:- 'Python'\n",
        "\n",
        "#input:- 'Python   '\n",
        "#output:- 'Python'"
      ],
      "execution_count": null,
      "outputs": []
    },
    {
      "cell_type": "code",
      "metadata": {
        "id": "9IUy-cpS4Dtt"
      },
      "source": [
        "my_str = \"Although 8 that way may not be obvious at first unless you're Dutch\"\n",
        "\n",
        "#Write the code to convert all alphabets in my_str into upper case.\n",
        "print()\n",
        "\n",
        "#Write the code to convert all alphabets in my_str into lower case.\n",
        "print()\n",
        "\n",
        "#Write the code to swap the cases of all alphabets in my_str.(lower to upper and upper to lower)\n",
        "print()\n",
        "\n"
      ],
      "execution_count": null,
      "outputs": []
    },
    {
      "cell_type": "code",
      "metadata": {
        "id": "-BjS-z674HKW"
      },
      "source": [
        "#Write the code which takes one string from user and if it starts with small case letter then convert it to corresponding \n",
        "#capital letter otherwise if starts with capital letters then convert first character of every word in that string into capital.\n",
        "\n"
      ],
      "execution_count": null,
      "outputs": []
    },
    {
      "cell_type": "code",
      "metadata": {
        "id": "-MCuDy5J4JQS"
      },
      "source": [
        "#Take a string from user and check if it is:-\n",
        "#     1. alphanumeric\n",
        "#     2. alphabets\n",
        "#     3. digit\n",
        "#     4. all letters are in lower case\n",
        "#     5. all letters are in upper case\n",
        "#     6. in title case\n",
        "#     7. a space character\n",
        "#     8. numeric\n",
        "#     9. all number elements in string are decimal\n",
        "\n"
      ],
      "execution_count": null,
      "outputs": []
    },
    {
      "cell_type": "code",
      "metadata": {
        "id": "tiTN-4ik4KAG"
      },
      "source": [
        "#W A P which takes a string as an input and prints True if the string is valid identifier else returns False.\n",
        "#Sample Input:- 'abc', 'abc1', 'ab1c', '1abc', 'abc$', '_abc', 'if'\n",
        "\n"
      ],
      "execution_count": null,
      "outputs": []
    },
    {
      "cell_type": "code",
      "metadata": {
        "id": "tAMkSIN84MPe"
      },
      "source": [
        "#What will be output of below code?\n",
        "s = chr(65) + chr(97)\n",
        "print(s.isprintable())\n",
        "\n",
        "s = chr(27) + chr(97)\n",
        "print(s.isprintable())\n",
        "\n",
        "s = '\\n'\n",
        "print(s.isprintable())\n",
        "\n",
        "s = ''\n",
        "print(s.isprintable())"
      ],
      "execution_count": null,
      "outputs": []
    },
    {
      "cell_type": "code",
      "metadata": {
        "id": "pU9Os0mD4Pk1"
      },
      "source": [
        "#What will be output of below code?\n",
        "my_string = '  '\n",
        "print(my_string.isascii())\n",
        "\n",
        "my_string = 'Studytonight'\n",
        "print(my_string.isascii())\n",
        "\n",
        "my_string = 'Study tonight'\n",
        "print(my_string.isascii())\n",
        "\n",
        "my_string = 'Studytonight@123'\n",
        "print(my_string.isascii())\n",
        "\n",
        "my_string = '°'\n",
        "print(my_string.isascii())\n",
        "\n",
        "my_string = 'ö'\n",
        "print(my_string.isascii())"
      ],
      "execution_count": null,
      "outputs": []
    },
    {
      "cell_type": "code",
      "metadata": {
        "id": "VsLV8FF74QTB"
      },
      "source": [
        "#What will be the output of below code?\n",
        "firstString = \"der Fluß\"\n",
        "secondString = \"der Fluss\"\n",
        "\n",
        "if firstString.casefold() == secondString.casefold():\n",
        "    print('The strings are equal.')\n",
        "else:\n",
        "    print('The strings are not equal.')"
      ],
      "execution_count": null,
      "outputs": []
    },
    {
      "cell_type": "code",
      "metadata": {
        "id": "1m0U7jLa4Wjf"
      },
      "source": [
        "#Write the code to get below output\n",
        "#O/P 1:- python** (using ljust method)\n",
        "\n",
        "\n",
        "#Write the code to get below output\n",
        "#O/P 1:- **python (using rjust method)\n",
        "\n",
        "\n",
        "#Write the code to get below output\n",
        "#O/P 1:- **python** (using rjust method)"
      ],
      "execution_count": null,
      "outputs": []
    },
    {
      "cell_type": "code",
      "metadata": {
        "id": "cRVkvW6s4YKK"
      },
      "source": [
        "#Write a Python program to find the length of the my_str:-\n",
        "\n",
        "#Input:- 'Write a Python program to find the length of the my_str'\n",
        "#Output:- 55\n"
      ],
      "execution_count": null,
      "outputs": []
    },
    {
      "cell_type": "code",
      "metadata": {
        "id": "SjABWI284Zuz"
      },
      "source": [
        "#Write a Python program to find the total number of times letter 'p' is appeared in the below string:-\n",
        "    \n",
        "#Input:- 'peter piper picked a peck of pickled peppers.'\n",
        "#Output:- 9\n",
        "\n"
      ],
      "execution_count": null,
      "outputs": []
    },
    {
      "cell_type": "code",
      "metadata": {
        "id": "-iZtqbEo4bQp"
      },
      "source": [
        "#Write a Python Program, to print all the indexes of all occurences of letter 'p' appeared in the string:-\n",
        "    \n",
        "#Input:- 'peter piper picked a peck of pickled peppers.'\n",
        "#Output:- \n",
        "# 0\n",
        "# 6\n",
        "# 8\n",
        "# 12\n",
        "# 21\n",
        "# 29\n",
        "# 37\n",
        "# 39\n",
        "# 40\n"
      ],
      "execution_count": null,
      "outputs": []
    },
    {
      "cell_type": "code",
      "metadata": {
        "id": "_A8Eu8f84daM"
      },
      "source": [
        "#Write a python program to find below output:-\n",
        "\n",
        "#Input:- 'peter piper picked a peck of pickled peppers.'\n",
        "#Output:- ['peter', 'piper', 'picked', 'a', 'peck', 'of', 'pickled', 'peppers.']\n",
        "\n"
      ],
      "execution_count": null,
      "outputs": []
    },
    {
      "cell_type": "code",
      "metadata": {
        "id": "juh7tQuL4fNc"
      },
      "source": [
        "#Write a python program to find below output:-\n",
        "\n",
        "#Input:- 'peter piper picked a peck of pickled peppers.'\n",
        "#Output:- 'peppers. pickled of peck a picked piper peter'\n",
        "\n"
      ],
      "execution_count": null,
      "outputs": []
    },
    {
      "cell_type": "code",
      "metadata": {
        "id": "aaHQYz194fW7"
      },
      "source": [
        "#Write a python program to find below output:-\n",
        "\n",
        "#Input:- 'peter piper picked a peck of pickled peppers.'\n",
        "#Output:- '.sreppep delkcip fo kcep a dekcip repip retep'\n",
        "\n"
      ],
      "execution_count": null,
      "outputs": []
    },
    {
      "cell_type": "code",
      "metadata": {
        "id": "LSgj9glC4feI"
      },
      "source": [
        "#Write a python program to find below output:-\n",
        "\n",
        "#Input:- 'peter piper picked a peck of pickled peppers.'\n",
        "#Output:- 'retep repip dekcip a kcep fo delkcip .sreppep'"
      ],
      "execution_count": null,
      "outputs": []
    },
    {
      "cell_type": "code",
      "metadata": {
        "id": "WUxPAkY94foo"
      },
      "source": [
        "#Write a python program to find below output:-\n",
        "\n",
        "#Input:- 'peter piper picked a peck of pickled peppers.'\n",
        "#Output:- 'Peter Piper Picked A Peck Of Pickled Peppers.'\n",
        "\n"
      ],
      "execution_count": null,
      "outputs": []
    },
    {
      "cell_type": "code",
      "metadata": {
        "id": "IT1NSPxA4mww"
      },
      "source": [
        "#Write a python program to find below output:-\n",
        "\n",
        "#Input:- 'Peter Piper Picked A Peck Of Pickled Peppers.'\n",
        "#Output:- 'Peter piper picked a peck of pickled peppers.'\n",
        "\n"
      ],
      "execution_count": null,
      "outputs": []
    },
    {
      "cell_type": "code",
      "metadata": {
        "id": "3Gg65vSc4m3C"
      },
      "source": [
        "#Write a python program to implement index method. If sub_str is found in my_str then it will print the index\n",
        "# of first occurrence of first character of matching string in my_str:-\n",
        "\n",
        "#Input:- my_str = 'Peter Piper Picked A Peck Of Pickled Peppers.', sub_str = 'Pickl'\n",
        "#Output:- 29\n",
        "\n"
      ],
      "execution_count": null,
      "outputs": []
    },
    {
      "cell_type": "code",
      "metadata": {
        "id": "iFRhp_JI4m6k"
      },
      "source": [
        "#Write a python program to implement replace method. If sub_str is found in my_str then it will replace the first \n",
        "#occurrence of sub_str with new_str else it will will print sub_str not found:-\n",
        "\n",
        "#Input:- my_str = 'Peter Piper Picked A Peck Of Pickled Peppers.', sub_str = 'Peck', new_str = 'Pack'\n",
        "#Output:- 'Peter Piper Picked A Pack Of Pickled Peppers.'\n",
        "\n"
      ],
      "execution_count": null,
      "outputs": []
    },
    {
      "cell_type": "code",
      "metadata": {
        "id": "dQ9YhBBc4m9V"
      },
      "source": [
        "#Write a python program to find below output (implements rjust and ljust):-\n",
        "\n",
        "#Input:- 'Peter Piper Picked A Peck Of Pickled Peppers.', sub_str = 'Peck', \n",
        "#Output:- '*********************Peck********************'\n",
        "\n",
        "\n"
      ],
      "execution_count": null,
      "outputs": []
    },
    {
      "cell_type": "code",
      "metadata": {
        "id": "w37BRLdt4tYT"
      },
      "source": [
        ""
      ],
      "execution_count": null,
      "outputs": []
    },
    {
      "cell_type": "code",
      "metadata": {
        "id": "W64gCpeu4vaF"
      },
      "source": [
        ""
      ],
      "execution_count": null,
      "outputs": []
    }
  ]
}