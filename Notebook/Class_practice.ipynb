{
 "cells": [
  {
   "cell_type": "code",
   "execution_count": null,
   "metadata": {},
   "outputs": [],
   "source": [
    "content = \"\"\"Lorem Ipsum is simply dummy text of the printing and typesetting industry. \n",
    "Lorem Ipsum has been the industry standard dummy text ever since the 1500s, when an unknown printer took a galley of type and scrambled it to make a type specimen book. \n",
    "It has survived not only five centuries, but also the leap into electronic typesetting, remaining essentially unchanged. \n",
    "It was popularised in the 1960s with the release of Letraset sheets containing Lorem Ipsum passages, and more recently with desktop publishing software like Aldus PageMaker including versions of Lorem Ipsum.\"\"\"\n",
    "# question 1 - Count the number of chararcters , words and lines from a file\n",
    "# question 2 - take one image file , copy the content of image.png ro new.jpg"
   ]
  },
  {
   "cell_type": "code",
   "execution_count": 1,
   "metadata": {},
   "outputs": [
    {
     "name": "stdout",
     "output_type": "stream",
     "text": [
      " Volume in drive C is OSDisk\n",
      " Volume Serial Number is 0EF3-CA58\n",
      "\n",
      " Directory of C:\\Users\\shobhitkumar\\Desktop\\ML_Practice\\Notebook\n",
      "\n",
      "08/08/2021  12:48 PM    <DIR>          .\n",
      "08/08/2021  12:48 PM    <DIR>          ..\n",
      "08/08/2021  12:18 PM    <DIR>          .ipynb_checkpoints\n",
      "08/07/2021  02:23 PM    <DIR>          __pycache__\n",
      "07/23/2021  11:15 PM             9,342 bool_Assignment.ipynb\n",
      "07/23/2021  11:22 PM             9,660 complex_Assignment.ipynb\n",
      "08/08/2021  12:48 PM               576 content.txt\n",
      "07/31/2021  01:32 PM            19,895 Dictionary_Assignment.ipynb\n",
      "07/23/2021  10:57 PM             7,595 float_Assignment.ipynb\n",
      "08/08/2021  12:18 PM            11,784 Function_Assignment.ipynb\n",
      "07/23/2021  10:31 PM            11,942 Int_Assignment.ipynb\n",
      "07/31/2021  12:49 AM            13,493 List_Assignment.ipynb\n",
      "08/03/2021  12:10 AM            18,564 Loop_Assignment.ipynb\n",
      "08/07/2021  02:22 PM               223 mod.py\n",
      "07/23/2021  12:25 AM            43,414 String_Assignment.ipynb\n",
      "08/08/2021  12:48 PM             1,363 Untitled.ipynb\n",
      "              12 File(s)        147,851 bytes\n",
      "               4 Dir(s)  315,033,001,984 bytes free\n"
     ]
    }
   ],
   "source": [
    "ls\n"
   ]
  },
  {
   "cell_type": "code",
   "execution_count": null,
   "metadata": {},
   "outputs": [],
   "source": []
  },
  {
   "cell_type": "code",
   "execution_count": 9,
   "metadata": {},
   "outputs": [
    {
     "name": "stdout",
     "output_type": "stream",
     "text": [
      "num of lines : 4\n",
      "num of char : 576\n",
      "num of words : 91\n"
     ]
    }
   ],
   "source": [
    "with open(\"content.txt\", 'r') as f:\n",
    "    num_of_lines = len(f.readlines())\n",
    "    f.seek(0)\n",
    "    content = f.read()\n",
    "    num_of_char = 0\n",
    "    for i in content:\n",
    "        num_of_char += 1\n",
    "    f.seek(0)    \n",
    "    num_of_words = 0\n",
    "    for word in content.split():\n",
    "         num_of_words+=1\n",
    "        \n",
    "print (f\"num of lines : {num_of_lines}\")\n",
    "print (f\"num of char : {num_of_char}\")\n",
    "print (f\"num of words : {num_of_words}\")\n",
    "       "
   ]
  },
  {
   "cell_type": "code",
   "execution_count": null,
   "metadata": {},
   "outputs": [],
   "source": [
    "with open('old.png' , 'rb') as f1:\n",
    "    with open('new.jpg' , 'wb' ) as f2:\n",
    "        f2.write(f1.read())"
   ]
  },
  {
   "cell_type": "code",
   "execution_count": 10,
   "metadata": {},
   "outputs": [
    {
     "data": {
      "text/plain": [
       "4"
      ]
     },
     "execution_count": 10,
     "metadata": {},
     "output_type": "execute_result"
    }
   ],
   "source": [
    "-1 % 5\n"
   ]
  },
  {
   "cell_type": "code",
   "execution_count": 27,
   "metadata": {},
   "outputs": [
    {
     "name": "stdout",
     "output_type": "stream",
     "text": [
      "Enter amount to be sent:699900\n",
      "Amount exceeds more than 50k\n",
      "Enter your Pan card Number:'asjhk'\n",
      "Enter pan in String format\n"
     ]
    }
   ],
   "source": [
    "class myException(Exception):\n",
    "    def __init__(self,msg):\n",
    "        self.msg = msg\n",
    "        \n",
    "\n",
    "\n",
    "def checkAmount(amt):\n",
    "    if amt>49999:\n",
    "        raise myException(\"Amount exceeds more than 50k\")\n",
    "    else:\n",
    "        print(\"Transaction Successfull!\")\n",
    "    \n",
    "def checkPan(pan):\n",
    "    if len(pan) < 10:\n",
    "        raise myException(\"Invalid Pan Entered!\")\n",
    "    else:\n",
    "        print (\"Thankyou for submitting details!\")\n",
    "        \n",
    "if __name__ == \"__main__\":       \n",
    "    amt = int(input(\"Enter amount to be sent:\"))\n",
    "    try:\n",
    "        checkAmount(amt)\n",
    "    except Exception as e:\n",
    "        print(e)\n",
    "        try:\n",
    "            try:\n",
    "                pan = eval(input(\"Enter your Pan card Number:\"))\n",
    "                checkPan(pan)\n",
    "            except:\n",
    "                print (\"Invalid input entered, please enter pan in String format\")\n",
    "            \n",
    "        except Exception as e:\n",
    "            print (e)\n",
    "        "
   ]
  },
  {
   "cell_type": "code",
   "execution_count": 34,
   "metadata": {},
   "outputs": [],
   "source": [
    "import re \n",
    "text = \"123-123-4567, 123455\"\n",
    "pattern = re.compile(r'^\\d{3}$')\n",
    "matches = pattern.finditer(text)\n",
    "\n",
    "for i in matches:\n",
    "    print (i)\n"
   ]
  },
  {
   "cell_type": "code",
   "execution_count": 6,
   "metadata": {},
   "outputs": [
    {
     "name": "stdout",
     "output_type": "stream",
     "text": [
      "<re.Match object; span=(0, 3), match='cat'>\n",
      "<re.Match object; span=(4, 7), match='fat'>\n",
      "<re.Match object; span=(8, 11), match='mat'>\n",
      "<re.Match object; span=(12, 15), match='pat'>\n"
     ]
    }
   ],
   "source": [
    "import re\n",
    "string = \"cat fat mat pat bat\"\n",
    "pattern = re.compile(r'[^b]at')\n",
    "matches = pattern.finditer(string)\n",
    "for i in matches:\n",
    "    print (i)"
   ]
  },
  {
   "cell_type": "code",
   "execution_count": 16,
   "metadata": {},
   "outputs": [
    {
     "name": "stdout",
     "output_type": "stream",
     "text": [
      "re.compile('.*[^abc]$')\n",
      "<re.Match object; span=(75, 102), match='afsan-321-khan@my-work.abc\\n'>\n"
     ]
    }
   ],
   "source": [
    "emails = '''\n",
    "AfsanMKhan@gmail.com\n",
    "afsan.khan@university.edu\n",
    "afsan-321-khan@my-work.net\n",
    "afsan-321-khan@my-work.abc\n",
    "'''\n",
    "\n",
    "# pattern = re.compile(r'[A-Za-z0-9-.]+\\@[a-z-]+\\.(com|edu|net)')\n",
    "pattern = re.compile(r'.*[^abc]$')\n",
    "print (pattern)\n",
    "# pattern = re.compile(r'[^abc]$')\n",
    "matches = pattern.finditer(emails)\n",
    "for i in matches:\n",
    "    print (i)"
   ]
  },
  {
   "cell_type": "code",
   "execution_count": null,
   "metadata": {},
   "outputs": [],
   "source": [
    "np.sum(a<6,axis=0)"
   ]
  },
  {
   "cell_type": "code",
   "execution_count": 26,
   "metadata": {},
   "outputs": [
    {
     "name": "stdout",
     "output_type": "stream",
     "text": [
      "[[0 1 2 3 4]\n",
      " [5 6 7 8 9]]\n",
      "0\n",
      "1\n",
      "2\n",
      "3\n",
      "4\n",
      "5\n",
      "6\n",
      "7\n",
      "8\n",
      "9\n"
     ]
    }
   ],
   "source": [
    "import numpy as np\n",
    "a = np.arange(10).reshape(2,5)\n",
    "print(a)\n",
    "for i in a.flatten():\n",
    "    print (i)"
   ]
  },
  {
   "cell_type": "code",
   "execution_count": 27,
   "metadata": {},
   "outputs": [
    {
     "name": "stdout",
     "output_type": "stream",
     "text": [
      "0\n",
      "5\n",
      "1\n",
      "6\n",
      "2\n",
      "7\n",
      "3\n",
      "8\n",
      "4\n",
      "9\n"
     ]
    }
   ],
   "source": [
    "for i in np.nditer(a,order='F'):\n",
    "    print (i)"
   ]
  },
  {
   "cell_type": "code",
   "execution_count": null,
   "metadata": {},
   "outputs": [],
   "source": []
  }
 ],
 "metadata": {
  "kernelspec": {
   "display_name": "Python 3",
   "language": "python",
   "name": "python3"
  },
  "language_info": {
   "codemirror_mode": {
    "name": "ipython",
    "version": 3
   },
   "file_extension": ".py",
   "mimetype": "text/x-python",
   "name": "python",
   "nbconvert_exporter": "python",
   "pygments_lexer": "ipython3",
   "version": "3.8.3"
  }
 },
 "nbformat": 4,
 "nbformat_minor": 4
}
