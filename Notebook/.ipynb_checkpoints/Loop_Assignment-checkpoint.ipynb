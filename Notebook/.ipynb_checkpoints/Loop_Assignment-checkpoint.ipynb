{
 "cells": [
  {
   "cell_type": "markdown",
   "metadata": {},
   "source": [
    "# Loop Assignment\n",
    "# Shobhit Kumar\n",
    "# Batch - 27th June Weekend"
   ]
  },
  {
   "cell_type": "code",
   "execution_count": 1,
   "metadata": {},
   "outputs": [
    {
     "name": "stdout",
     "output_type": "stream",
     "text": [
      "Enter a number from 0-9:9\n",
      "Nine\n"
     ]
    }
   ],
   "source": [
    "#  W. A P. which takes one number from 0 to 9 from the user and prints\n",
    "# it in the word. And if the word is not from 0 to 9 then\n",
    "# it should print that number is outside of the range and program should\n",
    "# exit.\n",
    "# For exapmple:-\n",
    "# input = 1\n",
    "# output = one\n",
    " \n",
    "num = int(input(\"Enter a number from 0-9:\"))\n",
    "\n",
    "if num > 9 or num < 0:\n",
    "    print (\"Number is either negative or more than 9\")\n",
    "\n",
    "else:\n",
    "    words = [\"Zero\",\"One\",\"Two\",\"Three\",\"Four\",\"Five\",\"Six\",\"Seven\",\"Eight\",\"Nine\"]\n",
    "    print(words[num])\n"
   ]
  },
  {
   "cell_type": "code",
   "execution_count": 2,
   "metadata": {},
   "outputs": [
    {
     "data": {
      "text/plain": [
       "True"
      ]
     },
     "execution_count": 2,
     "metadata": {},
     "output_type": "execute_result"
    }
   ],
   "source": [
    "# Q. W A P to check whether a year entered by user is an leap year or not?\n",
    "# Check with below input:-\n",
    "#  leap year:- 2012, 1968, 2004, 1200, 1600,2400\n",
    "#  Non-lear year:- 1971, 2006, 1700,1800,1900\n",
    "\n",
    "def isLeapYear(y):\n",
    "    if y%4 == 0:\n",
    "        if y%100 == 0:\n",
    "            if y%400 == 0:\n",
    "                return True\n",
    "            else:\n",
    "                return False\n",
    "        else:\n",
    "            return True\n",
    "    else:\n",
    "        return False\n",
    "    \n",
    "isLeapYear(2000)   "
   ]
  },
  {
   "cell_type": "code",
   "execution_count": 3,
   "metadata": {},
   "outputs": [
    {
     "name": "stdout",
     "output_type": "stream",
     "text": [
      "Enter a Number: 12\n",
      "Even\n"
     ]
    }
   ],
   "source": [
    "# W A P which takes one number from the user and checks whether it is\n",
    "# an even or odd number?, If it even then prints number is\n",
    "# even number else prints that number is odd number.\n",
    "\n",
    "num = int(input(\"Enter a Number: \"))\n",
    "print (\"Even\" if num %2 == 0 else \"Odd\")"
   ]
  },
  {
   "cell_type": "code",
   "execution_count": 4,
   "metadata": {},
   "outputs": [
    {
     "name": "stdout",
     "output_type": "stream",
     "text": [
      "Enter Two Numbers separated by comma:30,5\n",
      "30 is greater than 5\n"
     ]
    }
   ],
   "source": [
    "# Q. W A P which takes two numbers from the user and prints below output:-\n",
    "#  1. num1 is greater than num2 if num1 is greater than num2\n",
    "#  2. num1 is smaller than num2 if num1 is smaller than num2\n",
    "#  3. num1 is equal to num2 if num1 and num2 are equal\n",
    "# Note:- 1. Do this problem using if - else\n",
    "#  2. Do this using ternary operator\n",
    "\n",
    "x,y = input(\"Enter Two Numbers separated by comma:\").split(\",\")\n",
    "x = int(x)\n",
    "y = int(y)\n",
    "\n",
    "# if x>y:\n",
    "#     print (\"x is greater\")\n",
    "# elif x<y:\n",
    "#     print (\"x is smaller\")\n",
    "# else:\n",
    "#     print (\"Numbers are equal\")\n",
    "    \n",
    " # Using ternary operator\n",
    "\n",
    "print (f\"{x} is greater than {y}\" if x>y else f\"{y} is greater than {x}\")"
   ]
  },
  {
   "cell_type": "code",
   "execution_count": 6,
   "metadata": {},
   "outputs": [
    {
     "name": "stdout",
     "output_type": "stream",
     "text": [
      "Enter three numbers separated by comma:30,20,10\n",
      "30 is greater than 20,and 10\n"
     ]
    }
   ],
   "source": [
    "# Q. W A P which takes three numbers from the user and prints below\n",
    "# output:-\n",
    "#  1. num1 is greater than num2 and num3 if num1 is greater than num2\n",
    "# and num3\n",
    "#  2. num2 is greater than num1 and num3 if num2 is greater than num1\n",
    "# and num3\n",
    "# 3. num3 is greater than num1 and num2 if num3 is greater than num1\n",
    "# and num2\n",
    "# Note:- 1. Do this problem using if - elif - else\n",
    "#  2. Do this using ternary operator\n",
    "# a = a if a>b else b\n",
    "\n",
    "x,y,z = input(\"Enter three numbers separated by comma:\").split(\",\")\n",
    "x = int(x)\n",
    "y = int(y)\n",
    "z = int(z)\n",
    "if x>y and x>z:\n",
    "    print (f\"{x} is greater than {y},and {z}\")\n",
    "elif x<y and z<y:\n",
    "    print (f\"{y} is greater than {x},and {z}\")\n",
    "elif y<z and x<z:\n",
    "    print (f\"{z} is greater than {x},and {y}\")\n",
    "\n"
   ]
  },
  {
   "cell_type": "markdown",
   "metadata": {},
   "source": [
    "# Loops - for loop, while loop"
   ]
  },
  {
   "cell_type": "code",
   "execution_count": 7,
   "metadata": {},
   "outputs": [
    {
     "name": "stdout",
     "output_type": "stream",
     "text": [
      "Enter a String:'Write a Python program to find the length of the my_str'\n",
      "55\n"
     ]
    }
   ],
   "source": [
    "# Q. Write a Python program to find the length of the my_str using loop:-\n",
    "# Input:- 'Write a Python program to find the length of the my_str'\n",
    "# Output:- 55\n",
    "\n",
    "text = eval(input(\"Enter a String:\"))\n",
    "count = 0\n",
    "for i in text:\n",
    "    count+=1\n",
    "    \n",
    "print(count)    \n"
   ]
  },
  {
   "cell_type": "code",
   "execution_count": 8,
   "metadata": {},
   "outputs": [
    {
     "name": "stdout",
     "output_type": "stream",
     "text": [
      "Enter a String:'peter piper picked a peck of pickled peppers.\\n'\n",
      "9\n"
     ]
    }
   ],
   "source": [
    "# Q. Write a Python program to find the total number of times letter 'p'\n",
    "# is appeared in the below string using loop:-\n",
    "# Input:- 'peter piper picked a peck of pickled peppers.\\n'\n",
    "# Output:- 9\n",
    "\n",
    "text = eval(input(\"Enter a String:\"))\n",
    "count = 0\n",
    "for i in text:\n",
    "    if (i=='p'):\n",
    "        count+=1\n",
    "    \n",
    "print(count) "
   ]
  },
  {
   "cell_type": "code",
   "execution_count": 9,
   "metadata": {},
   "outputs": [
    {
     "name": "stdout",
     "output_type": "stream",
     "text": [
      "Enter a String:'peter piper picked a peck of pickled peppers.'\n",
      "0\n",
      "6\n",
      "8\n",
      "12\n",
      "21\n",
      "29\n",
      "37\n",
      "39\n",
      "40\n"
     ]
    }
   ],
   "source": [
    "# Q. Write a Python Program, to print all the indexes of all occurences of\n",
    "# letter 'p' appeared in the string using loop:-\n",
    "# Input:- 'peter piper picked a peck of pickled peppers.'\n",
    "# Output:-\n",
    "# 0\n",
    "# 6\n",
    "# 8\n",
    "# 12\n",
    "# 21\n",
    "# 29\n",
    "# 37\n",
    "# 39\n",
    "# 40\n",
    "\n",
    "text = eval(input(\"Enter a String:\"))\n",
    "count = 0\n",
    "for i in range(len(text)):\n",
    "    if (text[i]=='p'):\n",
    "        print(i)\n",
    "        \n",
    "    \n",
    " "
   ]
  },
  {
   "cell_type": "code",
   "execution_count": 10,
   "metadata": {},
   "outputs": [
    {
     "name": "stdout",
     "output_type": "stream",
     "text": [
      "Enter a String:'peter piper picked a peck of pickled peppers.'\n",
      "['peter', 'piper', 'picked', 'a', 'peck', 'of', 'pickled', 'peppers.']\n"
     ]
    }
   ],
   "source": [
    "# Q. Write a python program to find below output using loop:-\n",
    "# Input:- 'peter piper picked a peck of pickled peppers.'\n",
    "# Output:- ['peter', 'piper', 'picked', 'a', 'peck', 'of', 'pickled',\n",
    "# 'peppers']\n",
    "\n",
    "text = eval(input(\"Enter a String:\"))\n",
    "count = 0\n",
    "l = []\n",
    "start_idx = 0\n",
    "for i in range(len(text)):   \n",
    "    if (text[i]==' '):\n",
    "        l.append(text[start_idx:i])\n",
    "        start_idx = i+1\n",
    "l.append(text[start_idx:])    \n",
    "print (l)        "
   ]
  },
  {
   "cell_type": "code",
   "execution_count": 11,
   "metadata": {},
   "outputs": [
    {
     "name": "stdout",
     "output_type": "stream",
     "text": [
      "Enter a String:'peter piper picked a peck of pickled peppers.'\n",
      "peppers. pickled of peck a picked piper peter\n"
     ]
    }
   ],
   "source": [
    "# Q. Write a python program to find below output using loop:-\n",
    "# Input:- 'peter piper picked a peck of pickled peppers.'\n",
    "# Output:- 'peppers pickled of peck a picked piper peter'\n",
    "text = eval(input(\"Enter a String:\"))\n",
    "count = 0\n",
    "l = []\n",
    "start_idx = 0\n",
    "for i in range(len(text)):   \n",
    "    if (text[i]==' '):\n",
    "        l.append(text[start_idx:i])\n",
    "        start_idx = i+1\n",
    "l.append(text[start_idx:])    \n",
    "print (\" \".join(reversed(l)))\n"
   ]
  },
  {
   "cell_type": "code",
   "execution_count": 12,
   "metadata": {},
   "outputs": [
    {
     "name": "stdout",
     "output_type": "stream",
     "text": [
      "Enter a String:'peter piper picked a peck of pickled peppers.'\n",
      ".sreppep delkcip fo kcep a dekcip repip retep\n"
     ]
    }
   ],
   "source": [
    "# Q. Write a python program to find below output using loop:-\n",
    "# Input:- 'peter piper picked a peck of pickled peppers.'\n",
    "# Output:- '.sreppep delkcip fo kcep a dekcip repip retep'\n",
    "text = eval(input(\"Enter a String:\"))\n",
    "count = 0\n",
    "l = []\n",
    "end_idx = len(text)\n",
    "\n",
    "for i in range(len(text)):   \n",
    "    if (text[(len(text)-i-1)]==' '):\n",
    "        l.append(text[end_idx:len(text)-i-1:-1])\n",
    "        end_idx = len(text)-i-1\n",
    "l.append(text[end_idx::-1])    \n",
    "print (\"\".join(l))"
   ]
  },
  {
   "cell_type": "code",
   "execution_count": 13,
   "metadata": {},
   "outputs": [
    {
     "name": "stdout",
     "output_type": "stream",
     "text": [
      "Enter a String:'peter piper picked a peck of pickled peppers.'\n",
      "retep repip dekcip a kcep fo delkcip .sreppep\n"
     ]
    }
   ],
   "source": [
    "# Q. Write a python program to find below output using loop:-\n",
    "# Input:- 'peter piper picked a peck of pickled peppers.'\n",
    "# Output:- 'retep repip dekcip a kcep fo delkcip sreppep'\n",
    "\n",
    "text = eval(input(\"Enter a String:\"))\n",
    "count = 0\n",
    "l = []\n",
    "start_idx = 0\n",
    "for i in range(len(text)):   \n",
    "    if (text[i]==' '):\n",
    "        l.append(text[start_idx:i])\n",
    "        start_idx = i+1\n",
    "l.append(text[start_idx::])    \n",
    "print (\" \".join([items[::-1] for items in l]))  "
   ]
  },
  {
   "cell_type": "code",
   "execution_count": 14,
   "metadata": {},
   "outputs": [
    {
     "name": "stdout",
     "output_type": "stream",
     "text": [
      "Enter a String:'peter piper picked a peck of pickled peppers.'\n",
      "Peter Piper Picked A Peck Of Pickled Peppers.\n"
     ]
    }
   ],
   "source": [
    "# Q. Write a python program to find below output using loop:-\n",
    "# Input:- 'peter piper picked a peck of pickled peppers.'\n",
    "# Output:- 'Peter Piper Picked A Peck Of Pickled Peppers'\n",
    "text = eval(input(\"Enter a String:\"))\n",
    "count = 0\n",
    "\n",
    "l = []\n",
    "start_idx = 0\n",
    "for i in range(len(text)):   \n",
    "    if (text[i]==' '):\n",
    "        l.append(text[start_idx:i])\n",
    "        start_idx = i+1\n",
    "l.append(text[start_idx:])    \n",
    "print (\" \".join([items.capitalize() for items in l]))       \n",
    "             "
   ]
  },
  {
   "cell_type": "code",
   "execution_count": 15,
   "metadata": {},
   "outputs": [
    {
     "name": "stdout",
     "output_type": "stream",
     "text": [
      "Enter a String:'Peter Piper Picked A Peck Of Pickled Peppers.'\n",
      "Peter piper picked a peck of pickled peppers.\n"
     ]
    }
   ],
   "source": [
    "# Q. Write a python program to find below output using loop:-\n",
    "# Input:- 'Peter Piper Picked A Peck Of Pickled Peppers.'\n",
    "# Output:- 'Peter piper picked a peck of pickled peppers'\n",
    "\n",
    "text = eval(input(\"Enter a String:\"))\n",
    "count = 0\n",
    "l = []\n",
    "start_idx = 0\n",
    "for i in range(len(text)):   \n",
    "    if (text[i]==' '):\n",
    "        l.append(text[start_idx:i])\n",
    "        start_idx = i+1\n",
    "l.append(text[start_idx:])    \n",
    "string = \" \".join(l)\n",
    "\n",
    "print (string.capitalize())\n",
    "\n"
   ]
  },
  {
   "cell_type": "code",
   "execution_count": 16,
   "metadata": {},
   "outputs": [
    {
     "name": "stdout",
     "output_type": "stream",
     "text": [
      "29\n"
     ]
    }
   ],
   "source": [
    "# Q. Write a python program to implement index method using loop. If\n",
    "# sub_str is found in my_str then it will print the index\n",
    "# of first occurrence of first character of matching string in my_str:-\n",
    "# Input:- my_str = 'Peter Piper Picked A Peck Of Pickled Peppers.',\n",
    "# sub_str = 'Pickl'\n",
    "# Output:- 29\n",
    "\n",
    "my_str = 'Peter Piper Picked A Peck Of Pickled Peppers.'\n",
    "sub_str = 'Pickl'\n",
    "count = 0\n",
    "idx = 0\n",
    "# below program shows how many times sub_str occurs in my_str\n",
    "# for position in range(0,len(my_str)):\n",
    "#         if my_str[position:len(sub_str) + position] == sub_str:\n",
    "#             count += 1\n",
    "# print (count)\n",
    "   \n",
    "for position in range(0,len(my_str)):\n",
    "    # scannig string chunk from current position and length of sub string        \n",
    "        if my_str[position:len(sub_str) + position] == sub_str:\n",
    "#             count += 1\n",
    "            idx = position\n",
    "            break;\n",
    "print (idx)    \n",
    "    "
   ]
  },
  {
   "cell_type": "code",
   "execution_count": 17,
   "metadata": {},
   "outputs": [
    {
     "name": "stdout",
     "output_type": "stream",
     "text": [
      "Peter Piper Picked A Pack Of Pickled Peppers.\n"
     ]
    }
   ],
   "source": [
    "# Q. Write a python program to implement replace method using loop. If\n",
    "# sub_str is found in my_str then it will replace the first\n",
    "# occurrence of sub_str with new_str else it will will print sub_str not\n",
    "# found:-\n",
    "# Input:- my_str = 'Peter Piper Picked A Peck Of Pickled Peppers.',\n",
    "# sub_str = 'Peck', new_str = 'Pack'\n",
    "# Output:- 'Peter Piper Picked A Pack Of Pickled Peppers.'\n",
    "\n",
    "my_str = 'Peter Piper Picked A Peck Of Pickled Peppers.'\n",
    "sub_str = 'Peck' \n",
    "new_str = 'Pack'\n",
    "\n",
    "l = []\n",
    "start_idx = 0\n",
    "for i in range(len(my_str)):   \n",
    "    if (my_str[i]==' '):\n",
    "        l.append(my_str[start_idx:i])\n",
    "        start_idx = i+1\n",
    "l.append(my_str[start_idx:]) \n",
    "if sub_str in l:\n",
    "    for idx,val in enumerate(l):\n",
    "        if val == sub_str:\n",
    "            l[idx] = new_str        \n",
    "            print(\" \".join(l))  \n",
    "            break\n",
    "else:\n",
    "    print(\"sub_str not found\")\n",
    "    "
   ]
  },
  {
   "cell_type": "code",
   "execution_count": 23,
   "metadata": {},
   "outputs": [
    {
     "name": "stdout",
     "output_type": "stream",
     "text": [
      "Peter Piper Picked A Peck Of Pickled Peppers.\n",
      "*********************Peck********************\n"
     ]
    }
   ],
   "source": [
    "# Q. Write a python program to find below output (implements rjust and\n",
    "# ljust) using loop:-\n",
    "# Input:- 'Peter Piper Picked A Peck Of Pickled Peppers.', sub_str =\n",
    "# 'Peck',\n",
    "# Output:- '*********************Peck********************'\n",
    "\n",
    "def justified(my_str,sub_str):\n",
    "    '''\n",
    "        Function to convert string as mentiooned below\n",
    "        # Input:- 'Peter Piper Picked A Peck Of Pickled Peppers.', sub_str =\n",
    "        # 'Peck',\n",
    "        # Output:- '*********************Peck********************'\n",
    "    \n",
    "    \n",
    "    '''\n",
    "    # idx represent index at which sub_str string is present in the main string\n",
    "    idx = 0\n",
    "    # list to append output\n",
    "    output = []\n",
    "\n",
    "    #iterating through 0th index till length of input string\n",
    "    for position in range(0,len(my_str)):\n",
    "        #scanning string one character at a time \n",
    "            if my_str[position:len(sub_str) + position] == sub_str:\n",
    "                #get the most recent index of separator\n",
    "                idx = position\n",
    "               \n",
    "    # append * in the output idx times\n",
    "    # index of substring is found at 21 so, we will append 21 stars    \n",
    "    output.append('*'*idx)\n",
    "#     print (output)\n",
    "    #output after appending *  21 times , will be ---> ['*********************'] \n",
    "    \n",
    "    # after appending the stars we will append the sub_string\n",
    "    output.append(sub_str)\n",
    "#     print (output)\n",
    "    #output after appending sub_str , will be ---> ['*********************', 'Peck']\n",
    "    \n",
    "    # lastly we will append * for  the remaining string\n",
    "    # (len(my_str)-(idx+len(sub_str)))) will give tthe remaining length of string \n",
    "    output.append('*'*(len(my_str)-(idx+len(sub_str))))\n",
    "     #output after appending * for remaining length, will be ---> ['*********************', 'Peck', '********************']\n",
    "        \n",
    "    #Finally convert the list into string using join function    \n",
    "    output = ''.join(output)\n",
    "    return output\n",
    "\n",
    "if __name__=='__main__':\n",
    "    mainString = 'Peter Piper Picked A Peck Of Pickled Peppers.'\n",
    "    sub_str = 'Peck'\n",
    "    result = justified(mainString,sub_str)\n",
    "    print (mainString)\n",
    "    print (result) "
   ]
  },
  {
   "cell_type": "code",
   "execution_count": 12,
   "metadata": {},
   "outputs": [
    {
     "name": "stdout",
     "output_type": "stream",
     "text": [
      "['This ', 'is', ' Python class']\n"
     ]
    }
   ],
   "source": [
    "# Q. Write a python program to find below output using loop:-\n",
    "# Input:- 'This is Python class', sep = ' is',\n",
    "# Output:- ['This', 'is', 'Python class']\n",
    "\n",
    "\n",
    "\n",
    "def splitter(my_str,sep):\n",
    "    '''Function to return string based on a passed separator'''\n",
    "    # idx represent index at which separator string is present in the main string\n",
    "    idx = 0\n",
    "    # list to append output\n",
    "    output = []\n",
    "\n",
    "    #iterating through 0th index till length of input string\n",
    "    for position in range(0,len(my_str)):\n",
    "        #scanning string one character at a time \n",
    "            if my_str[position:len(sep) + position] == sep:\n",
    "                #get the most recent index of separator\n",
    "                idx = position\n",
    "    #append the string before the index at which substring is found to the output list \n",
    "    output.append(my_str[0:idx])\n",
    "    #append the separator\n",
    "    output.append(sep)\n",
    "    #append the remaining of scripts\n",
    "    output.append(my_str[idx+len(sep):]) \n",
    "    return output\n",
    "\n",
    "if __name__=='__main__':\n",
    "    mainString = 'This is Python class'\n",
    "    separator = 'is'\n",
    "    result = splitter(mainString,separator)\n",
    "\n",
    "    print (result)  \n",
    "    \n",
    "    \n"
   ]
  },
  {
   "cell_type": "code",
   "execution_count": 20,
   "metadata": {},
   "outputs": [
    {
     "name": "stdout",
     "output_type": "stream",
     "text": [
      "Upper case is 1\n",
      "Lower case is 9\n"
     ]
    }
   ],
   "source": [
    "def func(str_):\n",
    "    count_u = 0\n",
    "    count_l=0\n",
    "    for i in str_:\n",
    "        if i.isupper():\n",
    "            count_u += 1\n",
    "        elif i.islower():\n",
    "            count_l += 1\n",
    "    return count_u,count_l\n",
    "\n",
    "\n",
    "\n",
    "upper,lower = func(\"Afsaan khan\")\n",
    "print(f\"Upper case is {upper}\")\n",
    "print(f\"Lower case is {lower}\")"
   ]
  },
  {
   "cell_type": "code",
   "execution_count": 21,
   "metadata": {},
   "outputs": [
    {
     "name": "stdout",
     "output_type": "stream",
     "text": [
      "Enter a num:12\n",
      "Even\n"
     ]
    }
   ],
   "source": [
    "x = lambda x:(x%2) !=0 \n",
    "\n",
    "\n",
    "inp = int(input(\"Enter a num:\"))\n",
    "print(\"odd\" if x(inp) else \"Even\")"
   ]
  },
  {
   "cell_type": "code",
   "execution_count": 22,
   "metadata": {},
   "outputs": [
    {
     "name": "stdout",
     "output_type": "stream",
     "text": [
      "Enter a number:11\n",
      "Prime\n"
     ]
    }
   ],
   "source": [
    "#function to find if a number is prime\n",
    "def isPrime(n):\n",
    "    #iterating till n//2+1 if n is even else n//2 if odd\n",
    "    x = (n//2 + 1) if n%2 == 0 else (n//2)\n",
    "    \n",
    "    if (n <= 1):\n",
    "        return False\n",
    "\n",
    "    \n",
    "    for i in range(2, x):\n",
    "        if (n % i == 0):\n",
    "            return False\n",
    " \n",
    "    return True\n",
    " \n",
    "num = int(input(\"Enter a number:\"))\n",
    "print(\"Prime\"if isPrime(num) else \"Not Prime\")"
   ]
  }
 ],
 "metadata": {
  "kernelspec": {
   "display_name": "Python 3",
   "language": "python",
   "name": "python3"
  },
  "language_info": {
   "codemirror_mode": {
    "name": "ipython",
    "version": 3
   },
   "file_extension": ".py",
   "mimetype": "text/x-python",
   "name": "python",
   "nbconvert_exporter": "python",
   "pygments_lexer": "ipython3",
   "version": "3.8.3"
  }
 },
 "nbformat": 4,
 "nbformat_minor": 4
}
