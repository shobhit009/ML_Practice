{
 "cells": [
  {
   "cell_type": "markdown",
   "metadata": {},
   "source": [
    "# Implementation of Point Estimate and CI\n",
    "\n",
    "## Author - Shobhit Kumar"
   ]
  },
  {
   "cell_type": "code",
   "execution_count": 1,
   "metadata": {},
   "outputs": [],
   "source": [
    "import math"
   ]
  },
  {
   "cell_type": "code",
   "execution_count": 2,
   "metadata": {},
   "outputs": [],
   "source": [
    "def estimate_calculation():\n",
    "    \n",
    "    s_size = int(input(\"Sample Size:\"))\n",
    "    s_mean = int(input(\"Enter Sample mean:\"))\n",
    "    \n",
    "#     Defining a alpha dic assuming degree of freedom to be 15\n",
    "    alpha_dic = {'z_0.05':1.68, 'z_0.025':1.96, 't_0.05': 1.23, 't_0.025':2.131 }\n",
    "    \n",
    "#    Deciding distribution type based on sample size       \n",
    "    if s_size < 30 :\n",
    "     \n",
    "        dist_type = 't-distribution'\n",
    "        point_estimate = s_mean\n",
    "        s_stddev = int(input(\"Enter Sample Standard deviation(s):\"))\n",
    "        ci_left = s_mean - (alpha_dic['t_0.025']*(s_stddev/math.sqrt(s_size)))\n",
    "        ci_right = s_mean + (alpha_dic['t_0.025']*(s_stddev/math.sqrt(s_size)))\n",
    "    else:\n",
    "        dist_type = 'z-distribution'\n",
    "        point_estimate = s_mean\n",
    "        p_stddev = int(input(\"Enter Population Standard deviation(Sigma):\"))\n",
    "        ci_left = s_mean - (alpha_dic['z_0.025']*(p_stddev/math.sqrt(s_size)))\n",
    "        ci_right = s_mean + (alpha_dic['z_0.025']*(p_stddev/math.sqrt(s_size)))\n",
    "        \n",
    "    return dist_type, point_estimate, ci_left, ci_right    \n",
    "    "
   ]
  },
  {
   "cell_type": "code",
   "execution_count": 3,
   "metadata": {},
   "outputs": [],
   "source": [
    "def ask_user_input():\n",
    "    user_input = int(input(\"Enter options: \\n Press 1 for calculating Point Estimate \\n Press 2 for calculating confidence interval \\n Press 3 for both \\n Enter your option here: \"))\n",
    "    return user_input"
   ]
  },
  {
   "cell_type": "code",
   "execution_count": 5,
   "metadata": {},
   "outputs": [
    {
     "name": "stdout",
     "output_type": "stream",
     "text": [
      "Enter options: \n",
      " Press 1 for calculating Point Estimate \n",
      " Press 2 for calculating confidence interval \n",
      " Press 3 for both \n",
      " Enter your option here: 2\n",
      "Sample Size:12\n",
      "Enter Sample mean:21\n",
      "Enter Sample Standard deviation(s):34\n",
      "Output\n",
      "------------------------------------------------------------\n",
      "Data follows the t-distribution\n",
      "Confidence interval estimate estimate is :0.08433179806743141 to 41.91566820193257\n",
      "------------------------------------------------------------\n"
     ]
    }
   ],
   "source": [
    "if __name__ == '__main__':\n",
    "#     user_input = int(input(\"Enter options: \\n Press 1 for calculating Point Estimate \\n Press 2 for calculating confidence interval \\n Press 3 for both \\n Enter your option here: \"))\n",
    "    user_input = ask_user_input()\n",
    "    \n",
    "    # Switching based on user input\n",
    "    if user_input == 1:\n",
    "        dist, point_estimate, ci_left, ci_right = estimate_calculation()\n",
    "        print('Output')\n",
    "        print('-'*(60))\n",
    "        print (f'Data follows the {dist}')\n",
    "        print (f'Point estimate is :{point_estimate}')\n",
    "        print('-'*(60))\n",
    "    elif user_input == 2:\n",
    "        dist, point_estimate, ci_left, ci_right = estimate_calculation()\n",
    "        print('Output')\n",
    "        print('-'*(60))\n",
    "        print (f'Data follows the {dist}')\n",
    "        print (f'Confidence interval estimate estimate is :{ci_left} to {ci_right}')\n",
    "        print('-'*(60))\n",
    "    elif user_input == 3:\n",
    "        dist, point_estimate, ci_left, ci_right = estimate_calculation()\n",
    "        print('Output')\n",
    "        print('-'*(60))\n",
    "        print (f'Data follows the {dist}')\n",
    "        print (f'Point estimate is :{point_estimate}')\n",
    "        print (f'Confidence interval estimate is :{ci_left} to {ci_right}')\n",
    "        print('-'*(60))\n",
    "    else:\n",
    "        print (\"\\nInput entered is not valid!\\n\")\n",
    "        ask_user_input()"
   ]
  },
  {
   "cell_type": "code",
   "execution_count": null,
   "metadata": {},
   "outputs": [],
   "source": []
  }
 ],
 "metadata": {
  "kernelspec": {
   "display_name": "Python 3",
   "language": "python",
   "name": "python3"
  },
  "language_info": {
   "codemirror_mode": {
    "name": "ipython",
    "version": 3
   },
   "file_extension": ".py",
   "mimetype": "text/x-python",
   "name": "python",
   "nbconvert_exporter": "python",
   "pygments_lexer": "ipython3",
   "version": "3.8.3"
  }
 },
 "nbformat": 4,
 "nbformat_minor": 4
}
