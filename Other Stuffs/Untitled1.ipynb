{
 "cells": [
  {
   "cell_type": "code",
   "execution_count": 2,
   "metadata": {},
   "outputs": [
    {
     "name": "stdout",
     "output_type": "stream",
     "text": [
      "Collecting yfinance\n",
      "  Downloading yfinance-0.1.63.tar.gz (26 kB)\n",
      "Requirement already satisfied: pandas>=0.24 in c:\\python38\\lib\\site-packages (from yfinance) (1.1.3)\n",
      "Requirement already satisfied: numpy>=1.15 in c:\\python38\\lib\\site-packages (from yfinance) (1.18.5)\n",
      "Requirement already satisfied: requests>=2.20 in c:\\python38\\lib\\site-packages (from yfinance) (2.24.0)\n",
      "Collecting multitasking>=0.0.7\n",
      "  Downloading multitasking-0.0.9.tar.gz (8.1 kB)\n",
      "Collecting lxml>=4.5.1\n",
      "  Downloading lxml-4.6.3-cp38-cp38-win_amd64.whl (3.5 MB)\n"
     ]
    },
    {
     "name": "stderr",
     "output_type": "stream",
     "text": [
      "WARNING: Ignoring invalid distribution -ip (c:\\python38\\lib\\site-packages)\n",
      "WARNING: Ignoring invalid distribution -ip (c:\\python38\\lib\\site-packages)\n",
      "WARNING: Ignoring invalid distribution -ip (c:\\python38\\lib\\site-packages)\n",
      "  WARNING: Failed to write executable - trying to use .deleteme logic\n",
      "ERROR: Could not install packages due to an OSError: [WinError 2] The system cannot find the file specified: 'c:\\\\python38\\\\Scripts\\\\sample.exe' -> 'c:\\\\python38\\\\Scripts\\\\sample.exe.deleteme'\n",
      "\n",
      "WARNING: Ignoring invalid distribution -ip (c:\\python38\\lib\\site-packages)\n",
      "WARNING: Ignoring invalid distribution -ip (c:\\python38\\lib\\site-packages)\n",
      "WARNING: Ignoring invalid distribution -ip (c:\\python38\\lib\\site-packages)\n",
      "WARNING: You are using pip version 21.1.2; however, version 21.2.4 is available.\n",
      "You should consider upgrading via the 'c:\\python38\\python.exe -m pip install --upgrade pip' command.\n"
     ]
    },
    {
     "name": "stdout",
     "output_type": "stream",
     "text": [
      "Requirement already satisfied: pytz>=2017.2 in c:\\python38\\lib\\site-packages (from pandas>=0.24->yfinance) (2020.1)\n",
      "Requirement already satisfied: python-dateutil>=2.7.3 in c:\\python38\\lib\\site-packages (from pandas>=0.24->yfinance) (2.8.1)\n",
      "Requirement already satisfied: six>=1.5 in c:\\users\\shobhitkumar\\appdata\\roaming\\python\\python38\\site-packages (from python-dateutil>=2.7.3->pandas>=0.24->yfinance) (1.15.0)\n",
      "Requirement already satisfied: idna<3,>=2.5 in c:\\python38\\lib\\site-packages (from requests>=2.20->yfinance) (2.10)\n",
      "Requirement already satisfied: urllib3!=1.25.0,!=1.25.1,<1.26,>=1.21.1 in c:\\python38\\lib\\site-packages (from requests>=2.20->yfinance) (1.25.10)\n",
      "Requirement already satisfied: chardet<4,>=3.0.2 in c:\\python38\\lib\\site-packages (from requests>=2.20->yfinance) (3.0.4)\n",
      "Requirement already satisfied: certifi>=2017.4.17 in c:\\python38\\lib\\site-packages (from requests>=2.20->yfinance) (2020.6.20)\n",
      "Building wheels for collected packages: yfinance, multitasking\n",
      "  Building wheel for yfinance (setup.py): started\n",
      "  Building wheel for yfinance (setup.py): finished with status 'done'\n",
      "  Created wheel for yfinance: filename=yfinance-0.1.63-py2.py3-none-any.whl size=23914 sha256=1f2076387ae411af07b3824b516e6537bd95f9cd7bb23a1b1c4932f33f7bf740\n",
      "  Stored in directory: c:\\users\\shobhitkumar\\appdata\\local\\pip\\cache\\wheels\\ec\\cc\\c1\\32da8ee853d742d5d7cbd11ee04421222eb354672020b57297\n",
      "  Building wheel for multitasking (setup.py): started\n",
      "  Building wheel for multitasking (setup.py): finished with status 'done'\n",
      "  Created wheel for multitasking: filename=multitasking-0.0.9-py3-none-any.whl size=8372 sha256=d8cb14ca97cda55e85b6c768e827c68dc28ed32fafcf5a111575ccd9a99d208e\n",
      "  Stored in directory: c:\\users\\shobhitkumar\\appdata\\local\\pip\\cache\\wheels\\57\\6d\\a3\\a39b839cc75274d2acfb1c58bfead2f726c6577fe8c4723f13\n",
      "Successfully built yfinance multitasking\n",
      "Installing collected packages: multitasking, lxml, yfinance\n"
     ]
    }
   ],
   "source": [
    "!pip install yfinance"
   ]
  },
  {
   "cell_type": "code",
   "execution_count": 4,
   "metadata": {},
   "outputs": [
    {
     "name": "stdout",
     "output_type": "stream",
     "text": [
      "Collecting arrow\n",
      "  Downloading arrow-1.1.1-py3-none-any.whl (60 kB)\n",
      "Requirement already satisfied: python-dateutil>=2.7.0 in c:\\python38\\lib\\site-packages (from arrow) (2.8.1)\n",
      "Requirement already satisfied: six>=1.5 in c:\\users\\shobhitkumar\\appdata\\roaming\\python\\python38\\site-packages (from python-dateutil>=2.7.0->arrow) (1.15.0)\n",
      "Installing collected packages: arrow\n",
      "Successfully installed arrow-1.1.1\n"
     ]
    },
    {
     "name": "stderr",
     "output_type": "stream",
     "text": [
      "WARNING: Ignoring invalid distribution -ip (c:\\python38\\lib\\site-packages)\n",
      "WARNING: Ignoring invalid distribution -ip (c:\\python38\\lib\\site-packages)\n",
      "WARNING: Ignoring invalid distribution -ip (c:\\python38\\lib\\site-packages)\n",
      "WARNING: Ignoring invalid distribution -ip (c:\\python38\\lib\\site-packages)\n",
      "WARNING: Ignoring invalid distribution -ip (c:\\python38\\lib\\site-packages)\n",
      "WARNING: Ignoring invalid distribution -ip (c:\\python38\\lib\\site-packages)\n",
      "WARNING: Ignoring invalid distribution -ip (c:\\python38\\lib\\site-packages)\n",
      "WARNING: You are using pip version 21.1.2; however, version 21.2.4 is available.\n",
      "You should consider upgrading via the 'c:\\python38\\python.exe -m pip install --upgrade pip' command.\n"
     ]
    }
   ],
   "source": [
    "!pip install arrow"
   ]
  },
  {
   "cell_type": "code",
   "execution_count": 6,
   "metadata": {},
   "outputs": [
    {
     "name": "stdout",
     "output_type": "stream",
     "text": [
      "Collecting market_profile\n",
      "  Downloading market_profile-0.1.1-py3-none-any.whl (10 kB)\n",
      "Requirement already satisfied: pandas>=0.20.3 in c:\\python38\\lib\\site-packages (from market_profile) (1.1.3)\n",
      "Requirement already satisfied: numpy>=1.13.0 in c:\\python38\\lib\\site-packages (from market_profile) (1.18.5)\n",
      "Requirement already satisfied: pytz>=2017.2 in c:\\python38\\lib\\site-packages (from pandas>=0.20.3->market_profile) (2020.1)\n",
      "Requirement already satisfied: python-dateutil>=2.7.3 in c:\\python38\\lib\\site-packages (from pandas>=0.20.3->market_profile) (2.8.1)\n",
      "Requirement already satisfied: six>=1.5 in c:\\users\\shobhitkumar\\appdata\\roaming\\python\\python38\\site-packages (from python-dateutil>=2.7.3->pandas>=0.20.3->market_profile) (1.15.0)\n",
      "Installing collected packages: market-profile\n",
      "Successfully installed market-profile-0.1.1\n"
     ]
    },
    {
     "name": "stderr",
     "output_type": "stream",
     "text": [
      "WARNING: Ignoring invalid distribution -ip (c:\\python38\\lib\\site-packages)\n",
      "WARNING: Ignoring invalid distribution -ip (c:\\python38\\lib\\site-packages)\n",
      "WARNING: Ignoring invalid distribution -ip (c:\\python38\\lib\\site-packages)\n",
      "WARNING: Ignoring invalid distribution -ip (c:\\python38\\lib\\site-packages)\n",
      "WARNING: Ignoring invalid distribution -ip (c:\\python38\\lib\\site-packages)\n",
      "WARNING: Ignoring invalid distribution -ip (c:\\python38\\lib\\site-packages)\n",
      "WARNING: Ignoring invalid distribution -ip (c:\\python38\\lib\\site-packages)\n",
      "WARNING: You are using pip version 21.1.2; however, version 21.2.4 is available.\n",
      "You should consider upgrading via the 'c:\\python38\\python.exe -m pip install --upgrade pip' command.\n"
     ]
    }
   ],
   "source": [
    "!pip install market_profile"
   ]
  },
  {
   "cell_type": "code",
   "execution_count": 9,
   "metadata": {},
   "outputs": [],
   "source": [
    "import requests\n",
    "from datetime import date\n",
    "import time\n",
    "import yfinance as yf\n",
    "from datetime import datetime,timedelta\n",
    "import os\n",
    "import json\n",
    "import csv\n",
    "import pandas as pd\n",
    "import numpy as np\n",
    "# package import statement\n",
    "import arrow\n",
    "# from market_profile import MarketProfile\n"
   ]
  },
  {
   "cell_type": "code",
   "execution_count": 16,
   "metadata": {},
   "outputs": [
    {
     "name": "stdout",
     "output_type": "stream",
     "text": [
      "[*********************100%***********************]  1 of 1 completed\n",
      "[*********************100%***********************]  1 of 1 completed\n",
      "[*********************100%***********************]  1 of 1 completed\n",
      "[*********************100%***********************]  1 of 1 completed\n",
      "           Stock        Open        High         Low       Close   Adj Close  \\\n",
      "Date                                                                           \n",
      "2021-09-21   UPL  705.599976  727.900024  700.000000  721.849976  721.849976   \n",
      "2021-09-21  SBIN  440.149994  441.350006  432.649994  438.799988  438.799988   \n",
      "\n",
      "              Volume  \n",
      "Date                  \n",
      "2021-09-21   4222370  \n",
      "2021-09-21  17279588  \n"
     ]
    }
   ],
   "source": [
    "signal_data = {}\n",
    "signal_data_d = {}\n",
    "signal_data_m = {}\n",
    "list_data = []\n",
    "\n",
    "\n",
    "\n",
    "\n",
    "#end1 = dt1.datetime.today()\n",
    "#start1 = end1-dt1.timedelta(days=6)\n",
    "#print(end1)\n",
    "#signal_data[\"SBIN\"] = yf.download(\"SBIN\"+\".NS\",start1,end1,interval=\"1d\")\n",
    "#print(signal_data[\"SBIN\"])\n",
    "# nifty  ^NSEI\n",
    "#BankNifty  ^NSEBANK\n",
    "now = datetime.now()\n",
    "\n",
    "weekday = now.weekday()\n",
    "\n",
    "if weekday == 5:\n",
    "    curr_date = datetime.now() - timedelta(days=1)\n",
    "elif weekday == 6:\n",
    "    curr_date = datetime.now() - timedelta(days=2)\n",
    "else:\n",
    "    curr_date = datetime.now()\n",
    "\n",
    "if weekday == 0:\n",
    "    prev_date = datetime.now() - timedelta(days=3)\n",
    "elif weekday == 6:\n",
    "    prev_date = datetime.now() - timedelta(days=2)\n",
    "elif weekday == 5:\n",
    "    prev_date = datetime.now() - timedelta(days=1)\n",
    "\n",
    "else:\n",
    "    prev_date = datetime.now() - timedelta(days=1)\n",
    "\n",
    "curr_date_9 = date.today()\n",
    "curr_date_9 = curr_date_9.strftime(\"%Y-%m-%d\")\n",
    "curr_date_10 = curr_date_9 + \" 09:16:00\"\n",
    "curr_date_9 = curr_date_9 + \" 09:15:00\"\n",
    "curr_date_9 = datetime.strptime(curr_date_9,'%Y-%m-%d %H:%M:%S')\n",
    "curr_date_10 = datetime.strptime(curr_date_10,'%Y-%m-%d %H:%M:%S')\n",
    "df = pd.DataFrame()\n",
    "\n",
    "\n",
    "\n",
    "stock = [\"UPL\",\"SBIN\"]\n",
    "stock_1 = [\"APLLTD\",\"ASIANPAINT\",\"BHARATFORG\",\"BRITANNIA\",\"CHOLAFIN\",\"CROMPTON\",\"CUMMINSIND\",\"GLAND\",\"GODREJAGRO\",\"GODREJIND\",\n",
    "             \"HAVELLS\",\"HCLTECH\",\"HDFCBANK\",\"HEROMOTOCO\",\"HINDZINC\",\"ISEC\",\"KOTAKBANK\",\"MRF\",\"NESTLEIND\",\"OBEROIRLTY\",\n",
    "             \"PAGEIND\",\"PFIZER\",\"RELIANCE\",\"SANOFI\",\"SBILIFE\",\"SRF\",\"SUNTV\",\"TATACONSUM\",\"TITAN\",\"ULTRACEMCO\",\"VOLTAS\",]\n",
    "for ticker in stock:\n",
    "    signal_data_d[ticker] = yf.download(ticker+\".NS\",prev_date,prev_date,interval=\"1d\")\n",
    "    my_df_daily = pd.DataFrame(signal_data_d[ticker])\n",
    "    my_df_daily.insert(loc=0, column='Stock', value=ticker)\n",
    "\n",
    "    #df.merge(my_df_daily,how='outer',)\n",
    "    #print(signal_data[ticker])\n",
    "    df = df.append(my_df_daily)\n",
    "\n",
    "    prev_open = my_df_daily.iloc[0][0]\n",
    "    prev_high = my_df_daily.iloc[0][1]\n",
    "    prev_low = my_df_daily.iloc[0][2]\n",
    "    prev_close = my_df_daily.iloc[0][3]\n",
    "    #process the previous high previous close and previous low\n",
    "\n",
    "    PP = (prev_high + prev_low + prev_close) / 3\n",
    "    R2 = (PP) + (prev_high - prev_low)\n",
    "    #print(R2)\n",
    "    R1 = (2*PP) - prev_low\n",
    "    #print(R1)\n",
    "\n",
    "    #print(PP)\n",
    "    S1 = (2*PP) - prev_high\n",
    "    #print(S1)\n",
    "    S2 = (PP) - (prev_high - prev_low)\n",
    "    #print(PP)\n",
    "    signal_data_m[ticker] = yf.download(ticker + \".NS\", curr_date_9, curr_date_10, interval=\"1m\")\n",
    "    #print(signal_data[ticker])\n",
    "    my_df_minute = pd.DataFrame(signal_data_m[ticker])\n",
    "    open_price = my_df_minute.iloc[0][0]\n",
    "    # print(open_price)\n",
    "    if open_price >= prev_high and open_price >= R1 and open_price <= R2:\n",
    "        print(ticker + \"Long\")\n",
    "    # if open below S1 but above S2 && below previous days range - go short - generate short signal for the stock\n",
    "    if open_price <= prev_low and open_price <= S1 and open_price >= S2:\n",
    "        print(ticker + \"Short \")\n",
    "\n",
    "    #my_df_daily.to_csv(r'{}.csv'.format(\"daily_data_test\"), mode='a', index=True, header=True)\n",
    "    #my_df.to_csv(r'{}.csv'.format(\"daily_data\"),mode='a',index=True, header=False)\n",
    "\n",
    "\n",
    "print(df)"
   ]
  },
  {
   "cell_type": "code",
   "execution_count": null,
   "metadata": {},
   "outputs": [],
   "source": []
  }
 ],
 "metadata": {
  "kernelspec": {
   "display_name": "Python 3",
   "language": "python",
   "name": "python3"
  },
  "language_info": {
   "codemirror_mode": {
    "name": "ipython",
    "version": 3
   },
   "file_extension": ".py",
   "mimetype": "text/x-python",
   "name": "python",
   "nbconvert_exporter": "python",
   "pygments_lexer": "ipython3",
   "version": "3.8.3"
  }
 },
 "nbformat": 4,
 "nbformat_minor": 4
}
